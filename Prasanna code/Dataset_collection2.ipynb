{
 "cells": [
  {
   "cell_type": "code",
   "execution_count": 1,
   "id": "dabbd117-226a-4692-9c3e-5230033dfb46",
   "metadata": {},
   "outputs": [
    {
     "name": "stderr",
     "output_type": "stream",
     "text": [
      "/usr/lib/python3/dist-packages/scipy/__init__.py:146: UserWarning: A NumPy version >=1.17.3 and <1.25.0 is required for this version of SciPy (detected version 1.25.2\n",
      "  warnings.warn(f\"A NumPy version >={np_minversion} and <{np_maxversion}\"\n"
     ]
    }
   ],
   "source": [
    "import pandas as pd\n",
    "import numpy as np\n",
    "import matplotlib.pyplot as plt\n",
    "import seaborn as sns\n"
   ]
  },
  {
   "cell_type": "code",
   "execution_count": 2,
   "id": "84dbc1e2-5382-4691-a72b-649e85f6d788",
   "metadata": {},
   "outputs": [
    {
     "name": "stderr",
     "output_type": "stream",
     "text": [
      "/tmp/ipykernel_11237/1261651703.py:1: DtypeWarning: Columns (82,199) have mixed types. Specify dtype option on import or set low_memory=False.\n",
      "  df=pd.read_csv(\"/home/sunbeam/Desktop/DATASET/0031102-231002084531237/occurrence.txt\",delimiter = '\\t')\n"
     ]
    }
   ],
   "source": [
    "df=pd.read_csv(\"/home/sunbeam/Desktop/DATASET/0031102-231002084531237/occurrence.txt\",delimiter = '\\t')"
   ]
  },
  {
   "cell_type": "code",
   "execution_count": 3,
   "id": "ccc0708d-d49a-4aa2-b61b-f11bebe8c865",
   "metadata": {},
   "outputs": [
    {
     "name": "stdout",
     "output_type": "stream",
     "text": [
      "<class 'pandas.core.frame.DataFrame'>\n",
      "RangeIndex: 885595 entries, 0 to 885594\n",
      "Columns: 212 entries, gbifID to eventType\n",
      "dtypes: bool(2), float64(146), int64(19), object(45)\n",
      "memory usage: 1.4+ GB\n"
     ]
    }
   ],
   "source": [
    "pd.set_option('display.max_columns',None)\n",
    "df.info()\n"
   ]
  },
  {
   "cell_type": "code",
   "execution_count": 4,
   "id": "d69dc096-d146-4b0c-8c11-a0f507ae821e",
   "metadata": {},
   "outputs": [],
   "source": [
    "null_percentage = (df.isnull().sum() / len(df)) * 100\n",
    "\n",
    "columns_to_remove = null_percentage[null_percentage > 80].index\n",
    "\n",
    "df_cleaned = df.drop(columns=columns_to_remove)"
   ]
  },
  {
   "cell_type": "code",
   "execution_count": 5,
   "id": "d19917a5-cd46-4f18-a234-2b0453055e35",
   "metadata": {},
   "outputs": [
    {
     "name": "stdout",
     "output_type": "stream",
     "text": [
      "<class 'pandas.core.frame.DataFrame'>\n",
      "RangeIndex: 885595 entries, 0 to 885594\n",
      "Data columns (total 68 columns):\n",
      " #   Column                  Non-Null Count   Dtype  \n",
      "---  ------                  --------------   -----  \n",
      " 0   gbifID                  885595 non-null  int64  \n",
      " 1   license                 885595 non-null  object \n",
      " 2   publisher               885595 non-null  object \n",
      " 3   rightsHolder            885595 non-null  object \n",
      " 4   type                    885595 non-null  object \n",
      " 5   datasetID               885595 non-null  int64  \n",
      " 6   datasetName             885595 non-null  object \n",
      " 7   basisOfRecord           885595 non-null  object \n",
      " 8   occurrenceID            885595 non-null  int64  \n",
      " 9   individualCount         885595 non-null  int64  \n",
      " 10  organismQuantity        885595 non-null  float64\n",
      " 11  organismQuantityType    885595 non-null  object \n",
      " 12  occurrenceStatus        885595 non-null  object \n",
      " 13  organismID              885595 non-null  object \n",
      " 14  eventID                 885595 non-null  object \n",
      " 15  eventDate               885595 non-null  object \n",
      " 16  year                    885595 non-null  int64  \n",
      " 17  month                   885595 non-null  int64  \n",
      " 18  day                     885595 non-null  int64  \n",
      " 19  continent               849534 non-null  object \n",
      " 20  countryCode             849714 non-null  object \n",
      " 21  decimalLatitude         843385 non-null  float64\n",
      " 22  decimalLongitude        843385 non-null  float64\n",
      " 23  identificationID        885595 non-null  int64  \n",
      " 24  taxonID                 885595 non-null  int64  \n",
      " 25  acceptedNameUsageID     885595 non-null  int64  \n",
      " 26  scientificName          885595 non-null  object \n",
      " 27  kingdom                 885595 non-null  object \n",
      " 28  phylum                  885595 non-null  object \n",
      " 29  class                   885595 non-null  object \n",
      " 30  order                   885595 non-null  object \n",
      " 31  family                  885595 non-null  object \n",
      " 32  genus                   885595 non-null  object \n",
      " 33  genericName             885595 non-null  object \n",
      " 34  specificEpithet         885595 non-null  object \n",
      " 35  taxonRank               885595 non-null  object \n",
      " 36  taxonomicStatus         885595 non-null  object \n",
      " 37  datasetKey              885595 non-null  object \n",
      " 38  publishingCountry       885595 non-null  object \n",
      " 39  lastInterpreted         885595 non-null  object \n",
      " 40  issue                   885595 non-null  object \n",
      " 41  hasCoordinate           885595 non-null  bool   \n",
      " 42  hasGeospatialIssues     885595 non-null  bool   \n",
      " 43  taxonKey                885595 non-null  int64  \n",
      " 44  acceptedTaxonKey        885595 non-null  int64  \n",
      " 45  kingdomKey              885595 non-null  int64  \n",
      " 46  phylumKey               885595 non-null  int64  \n",
      " 47  classKey                885595 non-null  int64  \n",
      " 48  orderKey                885595 non-null  int64  \n",
      " 49  familyKey               885595 non-null  int64  \n",
      " 50  genusKey                885595 non-null  int64  \n",
      " 51  speciesKey              885595 non-null  int64  \n",
      " 52  species                 885595 non-null  object \n",
      " 53  acceptedScientificName  885595 non-null  object \n",
      " 54  verbatimScientificName  885595 non-null  object \n",
      " 55  protocol                885595 non-null  object \n",
      " 56  lastParsed              885595 non-null  object \n",
      " 57  lastCrawled             885595 non-null  object \n",
      " 58  repatriated             851240 non-null  object \n",
      " 59  level0Gid               833267 non-null  object \n",
      " 60  level0Name              833267 non-null  object \n",
      " 61  level1Gid               833267 non-null  object \n",
      " 62  level1Name              833267 non-null  object \n",
      " 63  level2Gid               812053 non-null  object \n",
      " 64  level2Name              812053 non-null  object \n",
      " 65  level3Gid               402004 non-null  object \n",
      " 66  level3Name              359057 non-null  object \n",
      " 67  iucnRedListCategory     885595 non-null  object \n",
      "dtypes: bool(2), float64(3), int64(19), object(44)\n",
      "memory usage: 447.6+ MB\n"
     ]
    }
   ],
   "source": [
    "df_cleaned.info()\n"
   ]
  },
  {
   "cell_type": "code",
   "execution_count": null,
   "id": "7ddcfcf8-c41b-4180-9e8e-502ceebc29dc",
   "metadata": {},
   "outputs": [],
   "source": []
  },
  {
   "cell_type": "code",
   "execution_count": 22,
   "id": "75465fb8-09af-422f-8917-7153828299a6",
   "metadata": {},
   "outputs": [
    {
     "ename": "ValueError",
     "evalue": "The truth value of a Series is ambiguous. Use a.empty, a.bool(), a.item(), a.any() or a.all().",
     "output_type": "error",
     "traceback": [
      "\u001b[0;31m---------------------------------------------------------------------------\u001b[0m",
      "\u001b[0;31mValueError\u001b[0m                                Traceback (most recent call last)",
      "\u001b[0;32m/tmp/ipykernel_9705/910516212.py\u001b[0m in \u001b[0;36m<module>\u001b[0;34m\u001b[0m\n\u001b[1;32m      3\u001b[0m \u001b[0;34m\u001b[0m\u001b[0m\n\u001b[1;32m      4\u001b[0m \u001b[0;32mfor\u001b[0m \u001b[0mi\u001b[0m \u001b[0;32min\u001b[0m \u001b[0mdf_cleaned\u001b[0m\u001b[0;34m.\u001b[0m\u001b[0mcolumns\u001b[0m\u001b[0;34m:\u001b[0m\u001b[0;34m\u001b[0m\u001b[0;34m\u001b[0m\u001b[0m\n\u001b[0;32m----> 5\u001b[0;31m     \u001b[0;32mif\u001b[0m \u001b[0mdf_cleaned\u001b[0m\u001b[0;34m[\u001b[0m\u001b[0mi\u001b[0m\u001b[0;34m]\u001b[0m\u001b[0;34m.\u001b[0m\u001b[0misna\u001b[0m\u001b[0;34m(\u001b[0m\u001b[0;34m)\u001b[0m \u001b[0;34m==\u001b[0m \u001b[0;32mTrue\u001b[0m\u001b[0;34m:\u001b[0m\u001b[0;34m\u001b[0m\u001b[0;34m\u001b[0m\u001b[0m\n\u001b[0m\u001b[1;32m      6\u001b[0m         \u001b[0;31m# df_cleaned.drop(df_)\u001b[0m\u001b[0;34m\u001b[0m\u001b[0;34m\u001b[0m\u001b[0m\n\u001b[1;32m      7\u001b[0m         \u001b[0mdf_cleaned\u001b[0m\u001b[0;34m.\u001b[0m\u001b[0misna\u001b[0m\u001b[0;34m(\u001b[0m\u001b[0;34m)\u001b[0m\u001b[0;34m.\u001b[0m\u001b[0mcount\u001b[0m\u001b[0;34m(\u001b[0m\u001b[0;34m)\u001b[0m\u001b[0;34m\u001b[0m\u001b[0;34m\u001b[0m\u001b[0m\n",
      "\u001b[0;32m/usr/local/lib/python3.10/dist-packages/pandas/core/generic.py\u001b[0m in \u001b[0;36m__nonzero__\u001b[0;34m(self)\u001b[0m\n\u001b[1;32m   1517\u001b[0m     \u001b[0;34m@\u001b[0m\u001b[0mfinal\u001b[0m\u001b[0;34m\u001b[0m\u001b[0;34m\u001b[0m\u001b[0m\n\u001b[1;32m   1518\u001b[0m     \u001b[0;32mdef\u001b[0m \u001b[0m__nonzero__\u001b[0m\u001b[0;34m(\u001b[0m\u001b[0mself\u001b[0m\u001b[0;34m)\u001b[0m \u001b[0;34m->\u001b[0m \u001b[0mNoReturn\u001b[0m\u001b[0;34m:\u001b[0m\u001b[0;34m\u001b[0m\u001b[0;34m\u001b[0m\u001b[0m\n\u001b[0;32m-> 1519\u001b[0;31m         raise ValueError(\n\u001b[0m\u001b[1;32m   1520\u001b[0m             \u001b[0;34mf\"The truth value of a {type(self).__name__} is ambiguous. \"\u001b[0m\u001b[0;34m\u001b[0m\u001b[0;34m\u001b[0m\u001b[0m\n\u001b[1;32m   1521\u001b[0m             \u001b[0;34m\"Use a.empty, a.bool(), a.item(), a.any() or a.all().\"\u001b[0m\u001b[0;34m\u001b[0m\u001b[0;34m\u001b[0m\u001b[0m\n",
      "\u001b[0;31mValueError\u001b[0m: The truth value of a Series is ambiguous. Use a.empty, a.bool(), a.item(), a.any() or a.all()."
     ]
    }
   ],
   "source": [
    "# if df_cleaned.isna() == True:\n",
    "\n",
    "\n",
    "for i in df_cleaned.columns:\n",
    "    if df_cleaned[i].isna() == True:\n",
    "        # df_cleaned.drop(df_)\n",
    "        df_cleaned.isna().count()\n",
    "\n",
    "\n"
   ]
  },
  {
   "cell_type": "code",
   "execution_count": 18,
   "id": "8d7fbd59-4785-4e18-831c-fa0ab731069d",
   "metadata": {},
   "outputs": [
    {
     "name": "stdout",
     "output_type": "stream",
     "text": [
      "<class 'pandas.core.frame.DataFrame'>\n",
      "RangeIndex: 885595 entries, 0 to 885594\n",
      "Data columns (total 68 columns):\n",
      " #   Column                  Non-Null Count   Dtype  \n",
      "---  ------                  --------------   -----  \n",
      " 0   gbifID                  885595 non-null  int64  \n",
      " 1   license                 885595 non-null  object \n",
      " 2   publisher               885595 non-null  object \n",
      " 3   rightsHolder            885595 non-null  object \n",
      " 4   type                    885595 non-null  object \n",
      " 5   datasetID               885595 non-null  int64  \n",
      " 6   datasetName             885595 non-null  object \n",
      " 7   basisOfRecord           885595 non-null  object \n",
      " 8   occurrenceID            885595 non-null  int64  \n",
      " 9   individualCount         885595 non-null  int64  \n",
      " 10  organismQuantity        885595 non-null  float64\n",
      " 11  organismQuantityType    885595 non-null  object \n",
      " 12  occurrenceStatus        885595 non-null  object \n",
      " 13  organismID              885595 non-null  object \n",
      " 14  eventID                 885595 non-null  object \n",
      " 15  eventDate               885595 non-null  object \n",
      " 16  year                    885595 non-null  int64  \n",
      " 17  month                   885595 non-null  int64  \n",
      " 18  day                     885595 non-null  int64  \n",
      " 19  continent               849534 non-null  object \n",
      " 20  countryCode             849714 non-null  object \n",
      " 21  decimalLatitude         843385 non-null  float64\n",
      " 22  decimalLongitude        843385 non-null  float64\n",
      " 23  identificationID        885595 non-null  int64  \n",
      " 24  taxonID                 885595 non-null  int64  \n",
      " 25  acceptedNameUsageID     885595 non-null  int64  \n",
      " 26  scientificName          885595 non-null  object \n",
      " 27  kingdom                 885595 non-null  object \n",
      " 28  phylum                  885595 non-null  object \n",
      " 29  class                   885595 non-null  object \n",
      " 30  order                   885595 non-null  object \n",
      " 31  family                  885595 non-null  object \n",
      " 32  genus                   885595 non-null  object \n",
      " 33  genericName             885595 non-null  object \n",
      " 34  specificEpithet         885595 non-null  object \n",
      " 35  taxonRank               885595 non-null  object \n",
      " 36  taxonomicStatus         885595 non-null  object \n",
      " 37  datasetKey              885595 non-null  object \n",
      " 38  publishingCountry       885595 non-null  object \n",
      " 39  lastInterpreted         885595 non-null  object \n",
      " 40  issue                   885595 non-null  object \n",
      " 41  hasCoordinate           885595 non-null  bool   \n",
      " 42  hasGeospatialIssues     885595 non-null  bool   \n",
      " 43  taxonKey                885595 non-null  int64  \n",
      " 44  acceptedTaxonKey        885595 non-null  int64  \n",
      " 45  kingdomKey              885595 non-null  int64  \n",
      " 46  phylumKey               885595 non-null  int64  \n",
      " 47  classKey                885595 non-null  int64  \n",
      " 48  orderKey                885595 non-null  int64  \n",
      " 49  familyKey               885595 non-null  int64  \n",
      " 50  genusKey                885595 non-null  int64  \n",
      " 51  speciesKey              885595 non-null  int64  \n",
      " 52  species                 885595 non-null  object \n",
      " 53  acceptedScientificName  885595 non-null  object \n",
      " 54  verbatimScientificName  885595 non-null  object \n",
      " 55  protocol                885595 non-null  object \n",
      " 56  lastParsed              885595 non-null  object \n",
      " 57  lastCrawled             885595 non-null  object \n",
      " 58  repatriated             851240 non-null  object \n",
      " 59  level0Gid               833267 non-null  object \n",
      " 60  level0Name              833267 non-null  object \n",
      " 61  level1Gid               833267 non-null  object \n",
      " 62  level1Name              833267 non-null  object \n",
      " 63  level2Gid               812053 non-null  object \n",
      " 64  level2Name              812053 non-null  object \n",
      " 65  level3Gid               402004 non-null  object \n",
      " 66  level3Name              359057 non-null  object \n",
      " 67  iucnRedListCategory     885595 non-null  object \n",
      "dtypes: bool(2), float64(3), int64(19), object(44)\n",
      "memory usage: 447.6+ MB\n"
     ]
    }
   ],
   "source": [
    "df_cleaned.info()\n"
   ]
  },
  {
   "cell_type": "code",
   "execution_count": null,
   "id": "26c10725-f7a0-4e69-8b81-71a850d71415",
   "metadata": {},
   "outputs": [],
   "source": []
  }
 ],
 "metadata": {
  "kernelspec": {
   "display_name": "Python 3 (ipykernel)",
   "language": "python",
   "name": "python3"
  },
  "language_info": {
   "codemirror_mode": {
    "name": "ipython",
    "version": 3
   },
   "file_extension": ".py",
   "mimetype": "text/x-python",
   "name": "python",
   "nbconvert_exporter": "python",
   "pygments_lexer": "ipython3",
   "version": "3.10.12"
  }
 },
 "nbformat": 4,
 "nbformat_minor": 5
}
