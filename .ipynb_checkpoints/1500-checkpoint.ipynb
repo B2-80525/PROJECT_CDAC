{
 "cells": [
  {
   "cell_type": "code",
   "execution_count": 1,
   "id": "47909c2f-7a3a-49f3-86f7-9602bc20aa4b",
   "metadata": {},
   "outputs": [],
   "source": [
    "import pandas as pd"
   ]
  },
  {
   "cell_type": "code",
   "execution_count": 4,
   "id": "03d5e3b9-2e8c-429b-9a01-ce057142631c",
   "metadata": {},
   "outputs": [
    {
     "name": "stderr",
     "output_type": "stream",
     "text": [
      "/tmp/ipykernel_8386/2688931670.py:1: DtypeWarning: Columns (12) have mixed types. Specify dtype option on import or set low_memory=False.\n",
      "  df =pd.read_csv(\"PFW_all_2016_2020_June2023_Public.csv\")\n"
     ]
    }
   ],
   "source": [
    "df =pd.read_csv(\"PFW_all_2016_2020_June2023_Public.csv\")"
   ]
  },
  {
   "cell_type": "code",
   "execution_count": 5,
   "id": "190ffd01-bcb6-4e17-baa8-89688997ef42",
   "metadata": {},
   "outputs": [
    {
     "data": {
      "text/html": [
       "<div>\n",
       "<style scoped>\n",
       "    .dataframe tbody tr th:only-of-type {\n",
       "        vertical-align: middle;\n",
       "    }\n",
       "\n",
       "    .dataframe tbody tr th {\n",
       "        vertical-align: top;\n",
       "    }\n",
       "\n",
       "    .dataframe thead th {\n",
       "        text-align: right;\n",
       "    }\n",
       "</style>\n",
       "<table border=\"1\" class=\"dataframe\">\n",
       "  <thead>\n",
       "    <tr style=\"text-align: right;\">\n",
       "      <th></th>\n",
       "      <th>LOC_ID</th>\n",
       "      <th>LATITUDE</th>\n",
       "      <th>LONGITUDE</th>\n",
       "      <th>SUBNATIONAL1_CODE</th>\n",
       "      <th>ENTRY_TECHNIQUE</th>\n",
       "      <th>SUB_ID</th>\n",
       "      <th>OBS_ID</th>\n",
       "      <th>Month</th>\n",
       "      <th>Day</th>\n",
       "      <th>Year</th>\n",
       "      <th>...</th>\n",
       "      <th>PLUS_CODE</th>\n",
       "      <th>VALID</th>\n",
       "      <th>REVIEWED</th>\n",
       "      <th>DAY1_AM</th>\n",
       "      <th>DAY1_PM</th>\n",
       "      <th>DAY2_AM</th>\n",
       "      <th>DAY2_PM</th>\n",
       "      <th>EFFORT_HRS_ATLEAST</th>\n",
       "      <th>SNOW_DEP_ATLEAST</th>\n",
       "      <th>Data_Entry_Method</th>\n",
       "    </tr>\n",
       "  </thead>\n",
       "  <tbody>\n",
       "    <tr>\n",
       "      <th>0</th>\n",
       "      <td>L100025</td>\n",
       "      <td>42.675982</td>\n",
       "      <td>-70.848019</td>\n",
       "      <td>US-MA</td>\n",
       "      <td>PointMaker1.0_2</td>\n",
       "      <td>S40896068</td>\n",
       "      <td>OBS554449393</td>\n",
       "      <td>12</td>\n",
       "      <td>2</td>\n",
       "      <td>2017</td>\n",
       "      <td>...</td>\n",
       "      <td>NaN</td>\n",
       "      <td>1.0</td>\n",
       "      <td>0.0</td>\n",
       "      <td>0.0</td>\n",
       "      <td>1.0</td>\n",
       "      <td>1.0</td>\n",
       "      <td>1.0</td>\n",
       "      <td>1.001</td>\n",
       "      <td>NaN</td>\n",
       "      <td>PFW Web 2.x</td>\n",
       "    </tr>\n",
       "    <tr>\n",
       "      <th>1</th>\n",
       "      <td>L100025</td>\n",
       "      <td>42.675982</td>\n",
       "      <td>-70.848019</td>\n",
       "      <td>US-MA</td>\n",
       "      <td>PointMaker1.0_2</td>\n",
       "      <td>S40896068</td>\n",
       "      <td>OBS554449394</td>\n",
       "      <td>12</td>\n",
       "      <td>2</td>\n",
       "      <td>2017</td>\n",
       "      <td>...</td>\n",
       "      <td>NaN</td>\n",
       "      <td>1.0</td>\n",
       "      <td>0.0</td>\n",
       "      <td>0.0</td>\n",
       "      <td>1.0</td>\n",
       "      <td>1.0</td>\n",
       "      <td>1.0</td>\n",
       "      <td>1.001</td>\n",
       "      <td>NaN</td>\n",
       "      <td>PFW Web 2.x</td>\n",
       "    </tr>\n",
       "    <tr>\n",
       "      <th>2</th>\n",
       "      <td>L100025</td>\n",
       "      <td>42.675982</td>\n",
       "      <td>-70.848019</td>\n",
       "      <td>US-MA</td>\n",
       "      <td>PointMaker1.0_2</td>\n",
       "      <td>S40896068</td>\n",
       "      <td>OBS554449395</td>\n",
       "      <td>12</td>\n",
       "      <td>2</td>\n",
       "      <td>2017</td>\n",
       "      <td>...</td>\n",
       "      <td>NaN</td>\n",
       "      <td>1.0</td>\n",
       "      <td>0.0</td>\n",
       "      <td>0.0</td>\n",
       "      <td>1.0</td>\n",
       "      <td>1.0</td>\n",
       "      <td>1.0</td>\n",
       "      <td>1.001</td>\n",
       "      <td>NaN</td>\n",
       "      <td>PFW Web 2.x</td>\n",
       "    </tr>\n",
       "    <tr>\n",
       "      <th>3</th>\n",
       "      <td>L100025</td>\n",
       "      <td>42.675982</td>\n",
       "      <td>-70.848019</td>\n",
       "      <td>US-MA</td>\n",
       "      <td>PointMaker1.0_2</td>\n",
       "      <td>S40896068</td>\n",
       "      <td>OBS554449396</td>\n",
       "      <td>12</td>\n",
       "      <td>2</td>\n",
       "      <td>2017</td>\n",
       "      <td>...</td>\n",
       "      <td>NaN</td>\n",
       "      <td>1.0</td>\n",
       "      <td>0.0</td>\n",
       "      <td>0.0</td>\n",
       "      <td>1.0</td>\n",
       "      <td>1.0</td>\n",
       "      <td>1.0</td>\n",
       "      <td>1.001</td>\n",
       "      <td>NaN</td>\n",
       "      <td>PFW Web 2.x</td>\n",
       "    </tr>\n",
       "    <tr>\n",
       "      <th>4</th>\n",
       "      <td>L100025</td>\n",
       "      <td>42.675982</td>\n",
       "      <td>-70.848019</td>\n",
       "      <td>US-MA</td>\n",
       "      <td>PointMaker1.0_2</td>\n",
       "      <td>S40896068</td>\n",
       "      <td>OBS554449397</td>\n",
       "      <td>12</td>\n",
       "      <td>2</td>\n",
       "      <td>2017</td>\n",
       "      <td>...</td>\n",
       "      <td>NaN</td>\n",
       "      <td>1.0</td>\n",
       "      <td>0.0</td>\n",
       "      <td>0.0</td>\n",
       "      <td>1.0</td>\n",
       "      <td>1.0</td>\n",
       "      <td>1.0</td>\n",
       "      <td>1.001</td>\n",
       "      <td>NaN</td>\n",
       "      <td>PFW Web 2.x</td>\n",
       "    </tr>\n",
       "  </tbody>\n",
       "</table>\n",
       "<p>5 rows × 24 columns</p>\n",
       "</div>"
      ],
      "text/plain": [
       "    LOC_ID   LATITUDE  LONGITUDE SUBNATIONAL1_CODE  ENTRY_TECHNIQUE  \\\n",
       "0  L100025  42.675982 -70.848019             US-MA  PointMaker1.0_2   \n",
       "1  L100025  42.675982 -70.848019             US-MA  PointMaker1.0_2   \n",
       "2  L100025  42.675982 -70.848019             US-MA  PointMaker1.0_2   \n",
       "3  L100025  42.675982 -70.848019             US-MA  PointMaker1.0_2   \n",
       "4  L100025  42.675982 -70.848019             US-MA  PointMaker1.0_2   \n",
       "\n",
       "      SUB_ID        OBS_ID  Month  Day  Year  ... PLUS_CODE VALID REVIEWED  \\\n",
       "0  S40896068  OBS554449393     12    2  2017  ...       NaN   1.0      0.0   \n",
       "1  S40896068  OBS554449394     12    2  2017  ...       NaN   1.0      0.0   \n",
       "2  S40896068  OBS554449395     12    2  2017  ...       NaN   1.0      0.0   \n",
       "3  S40896068  OBS554449396     12    2  2017  ...       NaN   1.0      0.0   \n",
       "4  S40896068  OBS554449397     12    2  2017  ...       NaN   1.0      0.0   \n",
       "\n",
       "   DAY1_AM  DAY1_PM  DAY2_AM  DAY2_PM  EFFORT_HRS_ATLEAST  SNOW_DEP_ATLEAST  \\\n",
       "0      0.0      1.0      1.0      1.0               1.001               NaN   \n",
       "1      0.0      1.0      1.0      1.0               1.001               NaN   \n",
       "2      0.0      1.0      1.0      1.0               1.001               NaN   \n",
       "3      0.0      1.0      1.0      1.0               1.001               NaN   \n",
       "4      0.0      1.0      1.0      1.0               1.001               NaN   \n",
       "\n",
       "   Data_Entry_Method  \n",
       "0        PFW Web 2.x  \n",
       "1        PFW Web 2.x  \n",
       "2        PFW Web 2.x  \n",
       "3        PFW Web 2.x  \n",
       "4        PFW Web 2.x  \n",
       "\n",
       "[5 rows x 24 columns]"
      ]
     },
     "execution_count": 5,
     "metadata": {},
     "output_type": "execute_result"
    }
   ],
   "source": [
    "df.head()"
   ]
  },
  {
   "cell_type": "code",
   "execution_count": 6,
   "id": "0f511520-a62d-47c8-8fcc-1ff500a0020d",
   "metadata": {},
   "outputs": [
    {
     "data": {
      "text/plain": [
       "array([2017, 2018, 2019, 2015, 2016, 2020])"
      ]
     },
     "execution_count": 6,
     "metadata": {},
     "output_type": "execute_result"
    }
   ],
   "source": [
    "df[\"Year\"].unique()"
   ]
  },
  {
   "cell_type": "code",
   "execution_count": 12,
   "id": "a8152ebe-42c6-40fe-887a-d2ce1939851c",
   "metadata": {},
   "outputs": [
    {
     "name": "stdout",
     "output_type": "stream",
     "text": [
      "<class 'pandas.core.frame.DataFrame'>\n",
      "RangeIndex: 9209114 entries, 0 to 9209113\n",
      "Data columns (total 24 columns):\n",
      " #   Column              Dtype  \n",
      "---  ------              -----  \n",
      " 0   LOC_ID              object \n",
      " 1   LATITUDE            float64\n",
      " 2   LONGITUDE           float64\n",
      " 3   SUBNATIONAL1_CODE   object \n",
      " 4   ENTRY_TECHNIQUE     object \n",
      " 5   SUB_ID              object \n",
      " 6   OBS_ID              object \n",
      " 7   Month               int64  \n",
      " 8   Day                 int64  \n",
      " 9   Year                int64  \n",
      " 10  PROJ_PERIOD_ID      object \n",
      " 11  SPECIES_CODE        object \n",
      " 12  alt_full_spp_code   object \n",
      " 13  HOW_MANY            float64\n",
      " 14  PLUS_CODE           float64\n",
      " 15  VALID               float64\n",
      " 16  REVIEWED            float64\n",
      " 17  DAY1_AM             float64\n",
      " 18  DAY1_PM             float64\n",
      " 19  DAY2_AM             float64\n",
      " 20  DAY2_PM             float64\n",
      " 21  EFFORT_HRS_ATLEAST  float64\n",
      " 22  SNOW_DEP_ATLEAST    float64\n",
      " 23  Data_Entry_Method   object \n",
      "dtypes: float64(12), int64(3), object(9)\n",
      "memory usage: 1.6+ GB\n"
     ]
    }
   ],
   "source": [
    "df.info()"
   ]
  },
  {
   "cell_type": "code",
   "execution_count": 13,
   "id": "b4e8de0b-f5dd-48fe-9471-040f7d9400bd",
   "metadata": {},
   "outputs": [
    {
     "data": {
      "text/plain": [
       "array(['US-MA', 'US-MN', 'US-GA', 'US-OH', 'US-WA', 'US-NC', 'US-NY',\n",
       "       'US-AK', 'US-PA', 'US-VA', 'US-KS', 'US-OR', 'CA-ON', 'US-RI',\n",
       "       'CA-MB', 'CA-BC', 'CA-QC', 'US-VT', 'US-CO', 'US-IL', 'US-CT',\n",
       "       'US-CA', 'CA-AB', 'US-MO', 'US-FL', 'US-MI', 'US-KY', 'US-TX',\n",
       "       'US-WI', 'US-SC', 'US-ND', 'US-ID', 'US-TN', 'US-NM', 'US-AZ',\n",
       "       'US-SD', 'US-NJ', 'US-WV', 'US-AL', 'US-DE', 'US-ME', 'US-IN',\n",
       "       'US-MD', 'US-MT', 'US-LA', 'US-IA', 'CA-NB', 'US-AR', 'CA-NS',\n",
       "       'US-NH', 'US-NV', 'CA-SK', 'US-WY', 'CA-PE', 'US-HI', 'US-NE',\n",
       "       'US-OK', 'US-UT', 'CA-YT', 'US-DC', 'CR-P', 'CA-NL', 'CA-NT',\n",
       "       'US-MS', 'PM-', 'CA-NU', 'XX-', 'MX-JAL', 'MX-NAY'], dtype=object)"
      ]
     },
     "execution_count": 13,
     "metadata": {},
     "output_type": "execute_result"
    }
   ],
   "source": [
    "df['SUBNATIONAL1_CODE'].unique()"
   ]
  }
 ],
 "metadata": {
  "kernelspec": {
   "display_name": "Python 3 (ipykernel)",
   "language": "python",
   "name": "python3"
  },
  "language_info": {
   "codemirror_mode": {
    "name": "ipython",
    "version": 3
   },
   "file_extension": ".py",
   "mimetype": "text/x-python",
   "name": "python",
   "nbconvert_exporter": "python",
   "pygments_lexer": "ipython3",
   "version": "3.10.12"
  }
 },
 "nbformat": 4,
 "nbformat_minor": 5
}
